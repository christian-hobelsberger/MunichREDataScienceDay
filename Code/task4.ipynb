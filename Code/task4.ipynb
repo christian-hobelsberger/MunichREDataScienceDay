{
 "cells": [
  {
   "cell_type": "code",
   "execution_count": 16,
   "outputs": [],
   "source": [
    "import numpy as np\n",
    "import pandas as pd\n",
    "import matplotlib.pyplot as plt"
   ],
   "metadata": {
    "collapsed": false,
    "pycharm": {
     "name": "#%%\n"
    }
   }
  },
  {
   "cell_type": "code",
   "execution_count": 5,
   "outputs": [],
   "source": [
    "ir_df = pd.read_csv(\"./Data/Ireland.csv\", index_col=0)\n",
    "nl_df = pd.read_csv(\"./Data/Netherlands.csv\", index_col=0)\n",
    "sc_df = pd.read_csv(\"./Data/Scotland.csv\", index_col=0)\n",
    "sa_df = pd.read_csv(\"./Data/Sardinia.csv\", index_col=0)"
   ],
   "metadata": {
    "collapsed": false,
    "pycharm": {
     "name": "#%%\n"
    }
   }
  },
  {
   "cell_type": "code",
   "execution_count": 6,
   "outputs": [],
   "source": [
    "ir_df[\"TIME\"] = pd.to_datetime(ir_df[\"TIME\"])\n",
    "nl_df[\"TIME\"] = pd.to_datetime(nl_df[\"TIME\"])\n",
    "sc_df[\"TIME\"] = pd.to_datetime(sc_df[\"TIME\"])\n",
    "sa_df[\"TIME\"] = pd.to_datetime(sa_df[\"time\"])"
   ],
   "metadata": {
    "collapsed": false,
    "pycharm": {
     "name": "#%%\n"
    }
   }
  },
  {
   "cell_type": "code",
   "execution_count": 7,
   "outputs": [],
   "source": [
    "ir_df[\"DATE\"] = ir_df[\"TIME\"].dt.date\n",
    "nl_df[\"DATE\"] = nl_df[\"TIME\"].dt.date\n",
    "sc_df[\"DATE\"] = sc_df[\"TIME\"].dt.date\n",
    "sa_df[\"DATE\"] = sa_df[\"TIME\"].dt.date"
   ],
   "metadata": {
    "collapsed": false,
    "pycharm": {
     "name": "#%%\n"
    }
   }
  },
  {
   "cell_type": "code",
   "execution_count": 8,
   "outputs": [
    {
     "data": {
      "text/plain": "                  TIME  HGT         WS         WD          PD       XLAT  \\\n0  2015-01-01 00:00:00  100  11.501400  230.59325   985.93866  52.728462   \n1  2015-01-01 00:30:00  100  11.568027  229.57266  1003.01070  52.728462   \n2  2015-01-01 01:00:00  100  11.520704  229.76889   990.93950  52.728462   \n3  2015-01-01 01:30:00  100  11.518334  230.36160   990.27450  52.728462   \n4  2015-01-01 02:00:00  100  11.635942  231.44452  1021.30660  52.728462   \n5  2015-01-01 02:30:00  100  11.381873  228.17848   956.19025  52.728462   \n6  2015-01-01 03:00:00  100  11.378232  226.47339   956.27185  52.728462   \n7  2015-01-01 03:30:00  100  11.334251  225.43845   945.22003  52.728462   \n8  2015-01-01 04:00:00  100  11.301086  224.53091   936.80664  52.728462   \n9  2015-01-01 04:30:00  100  11.432273  223.79974   969.62840  52.728462   \n10 2015-01-01 05:00:00  100  11.452883  222.29123   975.22864  52.728462   \n11 2015-01-01 05:30:00  100  11.475580  222.50635   981.69690  52.728462   \n12 2015-01-01 06:00:00  100  11.553684  222.25130  1002.34106  52.728462   \n13 2015-01-01 06:30:00  100  11.660361  217.83948  1030.76600  52.728462   \n14 2015-01-01 07:00:00  100  11.395126  221.72409   962.85986  52.728462   \n15 2015-01-01 07:30:00  100  11.556924  219.42566  1005.08050  52.728462   \n16 2015-01-01 08:00:00  100  11.602332  219.96962  1017.60767  52.728462   \n17 2015-01-01 08:30:00  100  11.810583  220.37890  1072.86190  52.728462   \n18 2015-01-01 09:00:00  100  12.143003  222.50690  1164.83030  52.728462   \n19 2015-01-01 09:30:00  100  12.396869  220.26941  1237.80350  52.728462   \n\n        XLON        POWER        DATE  \n0   5.639771  1967.805630  2015-01-01  \n1   5.639771  1973.995533  2015-01-01  \n2   5.639771  1969.625895  2015-01-01  \n3   5.639771  1969.403607  2015-01-01  \n4   5.639771  1980.041740  2015-01-01  \n5   5.639771  1956.030709  2015-01-01  \n6   5.639771  1955.658061  2015-01-01  \n7   5.639771  1951.089612  2015-01-01  \n8   5.639771  1947.561578  2015-01-01  \n9   5.639771  1961.103225  2015-01-01  \n10  5.639771  1963.131996  2015-01-01  \n11  5.639771  1965.336118  2015-01-01  \n12  5.639771  1972.684902  2015-01-01  \n13  5.639771  1982.152551  2015-01-01  \n14  5.639771  1957.380025  2015-01-01  \n15  5.639771  1972.981997  2015-01-01  \n16  5.639771  1977.082174  2015-01-01  \n17  5.639771  1994.435067  2015-01-01  \n18  5.639771  2017.701940  2015-01-01  \n19  5.639771  2032.323667  2015-01-01  ",
      "text/html": "<div>\n<style scoped>\n    .dataframe tbody tr th:only-of-type {\n        vertical-align: middle;\n    }\n\n    .dataframe tbody tr th {\n        vertical-align: top;\n    }\n\n    .dataframe thead th {\n        text-align: right;\n    }\n</style>\n<table border=\"1\" class=\"dataframe\">\n  <thead>\n    <tr style=\"text-align: right;\">\n      <th></th>\n      <th>TIME</th>\n      <th>HGT</th>\n      <th>WS</th>\n      <th>WD</th>\n      <th>PD</th>\n      <th>XLAT</th>\n      <th>XLON</th>\n      <th>POWER</th>\n      <th>DATE</th>\n    </tr>\n  </thead>\n  <tbody>\n    <tr>\n      <th>0</th>\n      <td>2015-01-01 00:00:00</td>\n      <td>100</td>\n      <td>11.501400</td>\n      <td>230.59325</td>\n      <td>985.93866</td>\n      <td>52.728462</td>\n      <td>5.639771</td>\n      <td>1967.805630</td>\n      <td>2015-01-01</td>\n    </tr>\n    <tr>\n      <th>1</th>\n      <td>2015-01-01 00:30:00</td>\n      <td>100</td>\n      <td>11.568027</td>\n      <td>229.57266</td>\n      <td>1003.01070</td>\n      <td>52.728462</td>\n      <td>5.639771</td>\n      <td>1973.995533</td>\n      <td>2015-01-01</td>\n    </tr>\n    <tr>\n      <th>2</th>\n      <td>2015-01-01 01:00:00</td>\n      <td>100</td>\n      <td>11.520704</td>\n      <td>229.76889</td>\n      <td>990.93950</td>\n      <td>52.728462</td>\n      <td>5.639771</td>\n      <td>1969.625895</td>\n      <td>2015-01-01</td>\n    </tr>\n    <tr>\n      <th>3</th>\n      <td>2015-01-01 01:30:00</td>\n      <td>100</td>\n      <td>11.518334</td>\n      <td>230.36160</td>\n      <td>990.27450</td>\n      <td>52.728462</td>\n      <td>5.639771</td>\n      <td>1969.403607</td>\n      <td>2015-01-01</td>\n    </tr>\n    <tr>\n      <th>4</th>\n      <td>2015-01-01 02:00:00</td>\n      <td>100</td>\n      <td>11.635942</td>\n      <td>231.44452</td>\n      <td>1021.30660</td>\n      <td>52.728462</td>\n      <td>5.639771</td>\n      <td>1980.041740</td>\n      <td>2015-01-01</td>\n    </tr>\n    <tr>\n      <th>5</th>\n      <td>2015-01-01 02:30:00</td>\n      <td>100</td>\n      <td>11.381873</td>\n      <td>228.17848</td>\n      <td>956.19025</td>\n      <td>52.728462</td>\n      <td>5.639771</td>\n      <td>1956.030709</td>\n      <td>2015-01-01</td>\n    </tr>\n    <tr>\n      <th>6</th>\n      <td>2015-01-01 03:00:00</td>\n      <td>100</td>\n      <td>11.378232</td>\n      <td>226.47339</td>\n      <td>956.27185</td>\n      <td>52.728462</td>\n      <td>5.639771</td>\n      <td>1955.658061</td>\n      <td>2015-01-01</td>\n    </tr>\n    <tr>\n      <th>7</th>\n      <td>2015-01-01 03:30:00</td>\n      <td>100</td>\n      <td>11.334251</td>\n      <td>225.43845</td>\n      <td>945.22003</td>\n      <td>52.728462</td>\n      <td>5.639771</td>\n      <td>1951.089612</td>\n      <td>2015-01-01</td>\n    </tr>\n    <tr>\n      <th>8</th>\n      <td>2015-01-01 04:00:00</td>\n      <td>100</td>\n      <td>11.301086</td>\n      <td>224.53091</td>\n      <td>936.80664</td>\n      <td>52.728462</td>\n      <td>5.639771</td>\n      <td>1947.561578</td>\n      <td>2015-01-01</td>\n    </tr>\n    <tr>\n      <th>9</th>\n      <td>2015-01-01 04:30:00</td>\n      <td>100</td>\n      <td>11.432273</td>\n      <td>223.79974</td>\n      <td>969.62840</td>\n      <td>52.728462</td>\n      <td>5.639771</td>\n      <td>1961.103225</td>\n      <td>2015-01-01</td>\n    </tr>\n    <tr>\n      <th>10</th>\n      <td>2015-01-01 05:00:00</td>\n      <td>100</td>\n      <td>11.452883</td>\n      <td>222.29123</td>\n      <td>975.22864</td>\n      <td>52.728462</td>\n      <td>5.639771</td>\n      <td>1963.131996</td>\n      <td>2015-01-01</td>\n    </tr>\n    <tr>\n      <th>11</th>\n      <td>2015-01-01 05:30:00</td>\n      <td>100</td>\n      <td>11.475580</td>\n      <td>222.50635</td>\n      <td>981.69690</td>\n      <td>52.728462</td>\n      <td>5.639771</td>\n      <td>1965.336118</td>\n      <td>2015-01-01</td>\n    </tr>\n    <tr>\n      <th>12</th>\n      <td>2015-01-01 06:00:00</td>\n      <td>100</td>\n      <td>11.553684</td>\n      <td>222.25130</td>\n      <td>1002.34106</td>\n      <td>52.728462</td>\n      <td>5.639771</td>\n      <td>1972.684902</td>\n      <td>2015-01-01</td>\n    </tr>\n    <tr>\n      <th>13</th>\n      <td>2015-01-01 06:30:00</td>\n      <td>100</td>\n      <td>11.660361</td>\n      <td>217.83948</td>\n      <td>1030.76600</td>\n      <td>52.728462</td>\n      <td>5.639771</td>\n      <td>1982.152551</td>\n      <td>2015-01-01</td>\n    </tr>\n    <tr>\n      <th>14</th>\n      <td>2015-01-01 07:00:00</td>\n      <td>100</td>\n      <td>11.395126</td>\n      <td>221.72409</td>\n      <td>962.85986</td>\n      <td>52.728462</td>\n      <td>5.639771</td>\n      <td>1957.380025</td>\n      <td>2015-01-01</td>\n    </tr>\n    <tr>\n      <th>15</th>\n      <td>2015-01-01 07:30:00</td>\n      <td>100</td>\n      <td>11.556924</td>\n      <td>219.42566</td>\n      <td>1005.08050</td>\n      <td>52.728462</td>\n      <td>5.639771</td>\n      <td>1972.981997</td>\n      <td>2015-01-01</td>\n    </tr>\n    <tr>\n      <th>16</th>\n      <td>2015-01-01 08:00:00</td>\n      <td>100</td>\n      <td>11.602332</td>\n      <td>219.96962</td>\n      <td>1017.60767</td>\n      <td>52.728462</td>\n      <td>5.639771</td>\n      <td>1977.082174</td>\n      <td>2015-01-01</td>\n    </tr>\n    <tr>\n      <th>17</th>\n      <td>2015-01-01 08:30:00</td>\n      <td>100</td>\n      <td>11.810583</td>\n      <td>220.37890</td>\n      <td>1072.86190</td>\n      <td>52.728462</td>\n      <td>5.639771</td>\n      <td>1994.435067</td>\n      <td>2015-01-01</td>\n    </tr>\n    <tr>\n      <th>18</th>\n      <td>2015-01-01 09:00:00</td>\n      <td>100</td>\n      <td>12.143003</td>\n      <td>222.50690</td>\n      <td>1164.83030</td>\n      <td>52.728462</td>\n      <td>5.639771</td>\n      <td>2017.701940</td>\n      <td>2015-01-01</td>\n    </tr>\n    <tr>\n      <th>19</th>\n      <td>2015-01-01 09:30:00</td>\n      <td>100</td>\n      <td>12.396869</td>\n      <td>220.26941</td>\n      <td>1237.80350</td>\n      <td>52.728462</td>\n      <td>5.639771</td>\n      <td>2032.323667</td>\n      <td>2015-01-01</td>\n    </tr>\n  </tbody>\n</table>\n</div>"
     },
     "execution_count": 8,
     "metadata": {},
     "output_type": "execute_result"
    }
   ],
   "source": [
    "nl_df.head(20)"
   ],
   "metadata": {
    "collapsed": false,
    "pycharm": {
     "name": "#%%\n"
    }
   }
  },
  {
   "cell_type": "code",
   "execution_count": 9,
   "outputs": [],
   "source": [
    "nl_df[\"LOC\"] = \"Onshore\"\n",
    "ir_df[\"LOC\"] = \"Offshore\"\n",
    "sa_df[\"LOC\"] = \"Offshore\"\n",
    "sc_df[\"LOC\"] = \"Onshore\""
   ],
   "metadata": {
    "collapsed": false,
    "pycharm": {
     "name": "#%%\n"
    }
   }
  },
  {
   "cell_type": "code",
   "execution_count": 10,
   "outputs": [],
   "source": [
    "onshore_config = {\n",
    "    \"cutIn\": 3,\n",
    "    \"cutOff\": 31,\n",
    "    \"diameter\": 141,\n",
    "    \"maxPower\": 4200,\n",
    "}\n",
    "\n",
    "offshore_config = {\n",
    "    \"cutIn\": 3.5,\n",
    "    \"cutOff\": 25,\n",
    "    \"diameter\": 193,\n",
    "    \"maxPower\": 10000,\n",
    "}"
   ],
   "metadata": {
    "collapsed": false,
    "pycharm": {
     "name": "#%%\n"
    }
   }
  },
  {
   "cell_type": "code",
   "execution_count": 25,
   "outputs": [
    {
     "data": {
      "text/plain": "                 TIME  HGT         WS         WD         PD       XLAT  \\\n0 2015-01-01 00:00:00  100  14.701463  208.66410  1975.4340  53.231453   \n1 2015-01-01 00:30:00  100  14.701601  206.70175  1975.2759  53.231453   \n2 2015-01-01 01:00:00  100  14.981335  205.01984  2089.9133  53.231453   \n3 2015-01-01 01:30:00  100  15.147255  202.35155  2160.3105  53.231453   \n4 2015-01-01 02:00:00  100  15.860322  199.94739  2479.6287  53.231453   \n\n       XLON        POWER       LOC        DATE  \n0 -10.01477  4987.424050  Offshore  2015-01-01  \n1 -10.01477  4987.427378  Offshore  2015-01-01  \n2 -10.01477  4993.491767  Offshore  2015-01-01  \n3 -10.01477  4996.513182  Offshore  2015-01-01  \n4 -10.01477  5005.846838  Offshore  2015-01-01  ",
      "text/html": "<div>\n<style scoped>\n    .dataframe tbody tr th:only-of-type {\n        vertical-align: middle;\n    }\n\n    .dataframe tbody tr th {\n        vertical-align: top;\n    }\n\n    .dataframe thead th {\n        text-align: right;\n    }\n</style>\n<table border=\"1\" class=\"dataframe\">\n  <thead>\n    <tr style=\"text-align: right;\">\n      <th></th>\n      <th>TIME</th>\n      <th>HGT</th>\n      <th>WS</th>\n      <th>WD</th>\n      <th>PD</th>\n      <th>XLAT</th>\n      <th>XLON</th>\n      <th>POWER</th>\n      <th>LOC</th>\n      <th>DATE</th>\n    </tr>\n  </thead>\n  <tbody>\n    <tr>\n      <th>0</th>\n      <td>2015-01-01 00:00:00</td>\n      <td>100</td>\n      <td>14.701463</td>\n      <td>208.66410</td>\n      <td>1975.4340</td>\n      <td>53.231453</td>\n      <td>-10.01477</td>\n      <td>4987.424050</td>\n      <td>Offshore</td>\n      <td>2015-01-01</td>\n    </tr>\n    <tr>\n      <th>1</th>\n      <td>2015-01-01 00:30:00</td>\n      <td>100</td>\n      <td>14.701601</td>\n      <td>206.70175</td>\n      <td>1975.2759</td>\n      <td>53.231453</td>\n      <td>-10.01477</td>\n      <td>4987.427378</td>\n      <td>Offshore</td>\n      <td>2015-01-01</td>\n    </tr>\n    <tr>\n      <th>2</th>\n      <td>2015-01-01 01:00:00</td>\n      <td>100</td>\n      <td>14.981335</td>\n      <td>205.01984</td>\n      <td>2089.9133</td>\n      <td>53.231453</td>\n      <td>-10.01477</td>\n      <td>4993.491767</td>\n      <td>Offshore</td>\n      <td>2015-01-01</td>\n    </tr>\n    <tr>\n      <th>3</th>\n      <td>2015-01-01 01:30:00</td>\n      <td>100</td>\n      <td>15.147255</td>\n      <td>202.35155</td>\n      <td>2160.3105</td>\n      <td>53.231453</td>\n      <td>-10.01477</td>\n      <td>4996.513182</td>\n      <td>Offshore</td>\n      <td>2015-01-01</td>\n    </tr>\n    <tr>\n      <th>4</th>\n      <td>2015-01-01 02:00:00</td>\n      <td>100</td>\n      <td>15.860322</td>\n      <td>199.94739</td>\n      <td>2479.6287</td>\n      <td>53.231453</td>\n      <td>-10.01477</td>\n      <td>5005.846838</td>\n      <td>Offshore</td>\n      <td>2015-01-01</td>\n    </tr>\n  </tbody>\n</table>\n</div>"
     },
     "execution_count": 25,
     "metadata": {},
     "output_type": "execute_result"
    }
   ],
   "source": [
    "ir_df[\"DATE\"] = ir_df[\"TIME\"].dt.date\n",
    "ir_df.head(5)"
   ],
   "metadata": {
    "collapsed": false,
    "pycharm": {
     "name": "#%%\n"
    }
   }
  },
  {
   "cell_type": "code",
   "execution_count": 13,
   "outputs": [],
   "source": [
    "def getListOfLossIntervalLengths(inputData):\n",
    "    resultList = list()\n",
    "    resultDateList = list()\n",
    "    index_max = inputData.shape[0]\n",
    "    for index in inputData.index:\n",
    "        if (inputData.loc[index, \"POWER\"] == 0):\n",
    "            if (inputData.loc[index - 1, \"POWER\"] == 0):\n",
    "                next\n",
    "            else:\n",
    "                resultDateList.append(inputData.loc[index, \"DATE\"])\n",
    "                count = 1\n",
    "                index_while = index + 1\n",
    "                if index_while == index_max:\n",
    "                        break\n",
    "                while (inputData.loc[index_while, \"POWER\"] <= 3):\n",
    "                    count += 1\n",
    "                    index_while += 1\n",
    "                    if index_while == index_max:\n",
    "                        break\n",
    "                resultList.append(count*2)\n",
    "    return [resultDateList, resultList]"
   ],
   "metadata": {
    "collapsed": false,
    "pycharm": {
     "name": "#%%\n"
    }
   }
  },
  {
   "cell_type": "code",
   "execution_count": 32,
   "outputs": [],
   "source": [
    "result = getListOfLossIntervalLengths(ir_df)\n",
    "result_dict = {\n",
    "    \"date\": result[0],\n",
    "    \"loss_duration\": result[1]\n",
    "}\n",
    "res_df = pd.DataFrame(result_dict)"
   ],
   "metadata": {
    "collapsed": false,
    "pycharm": {
     "name": "#%%\n"
    }
   }
  },
  {
   "cell_type": "code",
   "execution_count": 14,
   "outputs": [],
   "source": [
    "result_ireland = getListOfLossIntervalLengths(ir_df)\n",
    "result_netherlands = getListOfLossIntervalLengths(nl_df)\n",
    "result_sardinia = getListOfLossIntervalLengths(sa_df)\n",
    "result_scotland = getListOfLossIntervalLengths(sc_df)"
   ],
   "metadata": {
    "collapsed": false,
    "pycharm": {
     "name": "#%%\n"
    }
   }
  },
  {
   "cell_type": "code",
   "execution_count": 18,
   "outputs": [
    {
     "name": "stdout",
     "output_type": "stream",
     "text": [
      "24.0\n",
      "30.0\n",
      "36.0\n",
      "22.0\n"
     ]
    }
   ],
   "source": [
    "print(np.percentile(np.asarray(result_ireland[1]), 80))\n",
    "print(np.percentile(np.asarray(result_netherlands[1]), 80))\n",
    "print(np.percentile(np.asarray(result_sardinia[1]), 80))\n",
    "print(np.percentile(np.asarray(result_scotland[1]), 80))"
   ],
   "metadata": {
    "collapsed": false,
    "pycharm": {
     "name": "#%%\n"
    }
   }
  },
  {
   "cell_type": "code",
   "execution_count": 19,
   "outputs": [
    {
     "name": "stdout",
     "output_type": "stream",
     "text": [
      "34.0\n",
      "42.0\n",
      "64.0\n",
      "36.0\n"
     ]
    }
   ],
   "source": [
    "print(np.percentile(np.asarray(result_ireland[1]), 90))\n",
    "print(np.percentile(np.asarray(result_netherlands[1]), 90))\n",
    "print(np.percentile(np.asarray(result_sardinia[1]), 90))\n",
    "print(np.percentile(np.asarray(result_scotland[1]), 90))"
   ],
   "metadata": {
    "collapsed": false,
    "pycharm": {
     "name": "#%%\n"
    }
   }
  },
  {
   "cell_type": "code",
   "execution_count": null,
   "outputs": [],
   "source": [],
   "metadata": {
    "collapsed": false,
    "pycharm": {
     "name": "#%%\n"
    }
   }
  },
  {
   "cell_type": "code",
   "execution_count": 28,
   "outputs": [],
   "source": [
    "temp1 = np.asarray(result_scotland[1])"
   ],
   "metadata": {
    "collapsed": false,
    "pycharm": {
     "name": "#%%\n"
    }
   }
  },
  {
   "cell_type": "code",
   "execution_count": 29,
   "outputs": [
    {
     "data": {
      "text/plain": "11"
     },
     "execution_count": 29,
     "metadata": {},
     "output_type": "execute_result"
    }
   ],
   "source": [
    "np.count_nonzero(temp1 > 36)"
   ],
   "metadata": {
    "collapsed": false,
    "pycharm": {
     "name": "#%%\n"
    }
   }
  },
  {
   "cell_type": "code",
   "execution_count": 30,
   "outputs": [
    {
     "data": {
      "text/plain": "0.030136986301369864"
     },
     "execution_count": 30,
     "metadata": {},
     "output_type": "execute_result"
    }
   ],
   "source": [
    "11/365"
   ],
   "metadata": {
    "collapsed": false,
    "pycharm": {
     "name": "#%%\n"
    }
   }
  },
  {
   "cell_type": "code",
   "execution_count": null,
   "outputs": [],
   "source": [],
   "metadata": {
    "collapsed": false,
    "pycharm": {
     "name": "#%%\n"
    }
   }
  }
 ],
 "metadata": {
  "kernelspec": {
   "display_name": "Python 3",
   "language": "python",
   "name": "python3"
  },
  "language_info": {
   "codemirror_mode": {
    "name": "ipython",
    "version": 2
   },
   "file_extension": ".py",
   "mimetype": "text/x-python",
   "name": "python",
   "nbconvert_exporter": "python",
   "pygments_lexer": "ipython2",
   "version": "2.7.6"
  }
 },
 "nbformat": 4,
 "nbformat_minor": 0
}